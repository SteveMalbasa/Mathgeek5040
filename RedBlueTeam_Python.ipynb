{
  "nbformat": 4,
  "nbformat_minor": 0,
  "metadata": {
    "colab": {
      "provenance": [],
      "authorship_tag": "ABX9TyNVn8KksWsgDLT9JXT1Mzb5",
      "include_colab_link": true
    },
    "kernelspec": {
      "name": "python3",
      "display_name": "Python 3"
    },
    "language_info": {
      "name": "python"
    }
  },
  "cells": [
    {
      "cell_type": "markdown",
      "metadata": {
        "id": "view-in-github",
        "colab_type": "text"
      },
      "source": [
        "<a href=\"https://colab.research.google.com/github/SteveMalbasa/Mathgeek5040/blob/main/RedBlueTeam_Python.ipynb\" target=\"_parent\"><img src=\"https://colab.research.google.com/assets/colab-badge.svg\" alt=\"Open In Colab\"/></a>"
      ]
    },
    {
      "cell_type": "code",
      "execution_count": 6,
      "metadata": {
        "colab": {
          "base_uri": "https://localhost:8080/"
        },
        "id": "-n8Yx59hb8_c",
        "outputId": "f9b99e21-9504-4cec-cde1-5a6193b8a418"
      },
      "outputs": [
        {
          "output_type": "stream",
          "name": "stdout",
          "text": [
            "0, 0\n",
            "0, 1\n",
            "1, 0\n",
            "1, 1\n",
            "2, 0\n",
            "2, 1\n",
            "3, 0\n",
            "3, 1\n",
            "failure\n"
          ]
        }
      ],
      "source": [
        "for  i in range(4):\n",
        "  for j in range (2):\n",
        "    print(f\"{i}, {j}\")\n",
        "\n",
        "\n",
        "else:\n",
        "  print(\"failure\")\n"
      ]
    },
    {
      "cell_type": "code",
      "source": [
        "#for  i in range(4):\n",
        "  #for j in range (2):\n",
        "    #print(f\"{i}, {j}\")\n",
        "\n",
        "cmd = \"\"\n",
        "while cmd.lower() != \"exit\":\n",
        "  cmd = input(\">>>\")\n",
        "print('you typed: ', cmd)\n",
        "if cmd.lower() == \"exit\":\n",
        "  break"
      ],
      "metadata": {
        "colab": {
          "base_uri": "https://localhost:8080/",
          "height": 200
        },
        "id": "AqhgyehEdJWe",
        "outputId": "5a49b8fb-250b-436b-cb4e-71a8b9164814"
      },
      "execution_count": 10,
      "outputs": [
        {
          "output_type": "stream",
          "name": "stdout",
          "text": [
            ">>>steve\n",
            ">>>exit\n",
            "you typed:  exit\n"
          ]
        },
        {
          "output_type": "error",
          "ename": "SyntaxError",
          "evalue": "ignored",
          "traceback": [
            "\u001b[0;36m  File \u001b[0;32m\"<ipython-input-10-6391e902f311>\"\u001b[0;36m, line \u001b[0;32m10\u001b[0m\n\u001b[0;31m    break\u001b[0m\n\u001b[0m    ^\u001b[0m\n\u001b[0;31mSyntaxError\u001b[0m\u001b[0;31m:\u001b[0m 'break' outside loop\n"
          ]
        }
      ]
    },
    {
      "cell_type": "code",
      "source": [
        "def stevetest():\n",
        "  print('first function')\n",
        "\n",
        "def testparameter(firstparam, secondparam):\n",
        "  print(f'{firstparam} {secondparam}')\n",
        "\n",
        "testparameter('Steve', 'Malbasa')"
      ],
      "metadata": {
        "colab": {
          "base_uri": "https://localhost:8080/"
        },
        "id": "sAumzm-1fGDQ",
        "outputId": "32a33485-58d6-48d0-f29d-923354621b50"
      },
      "execution_count": 16,
      "outputs": [
        {
          "output_type": "stream",
          "name": "stdout",
          "text": [
            "Steve Malbasa\n"
          ]
        }
      ]
    },
    {
      "cell_type": "code",
      "source": [
        "# R, W, A, RT, RB\n",
        "\n",
        "my_file = open(\"my_file.txt\",\"w\")\n",
        "\n",
        "handle = open(\"my\")"
      ],
      "metadata": {
        "colab": {
          "base_uri": "https://localhost:8080/"
        },
        "id": "0tAcXQtjnTU2",
        "outputId": "f7c7890b-d5ca-49f8-9819-0709ea36e5f3"
      },
      "execution_count": 8,
      "outputs": [
        {
          "output_type": "stream",
          "name": "stdout",
          "text": [
            "['_CHUNK_SIZE', '__class__', '__del__', '__delattr__', '__dict__', '__dir__', '__doc__', '__enter__', '__eq__', '__exit__', '__format__', '__ge__', '__getattribute__', '__gt__', '__hash__', '__init__', '__init_subclass__', '__iter__', '__le__', '__lt__', '__ne__', '__new__', '__next__', '__reduce__', '__reduce_ex__', '__repr__', '__setattr__', '__sizeof__', '__str__', '__subclasshook__', '_checkClosed', '_checkReadable', '_checkSeekable', '_checkWritable', '_finalizing', 'buffer', 'close', 'closed', 'detach', 'encoding', 'errors', 'fileno', 'flush', 'isatty', 'line_buffering', 'mode', 'name', 'newlines', 'read', 'readable', 'readline', 'readlines', 'reconfigure', 'seek', 'seekable', 'tell', 'truncate', 'writable', 'write', 'write_through', 'writelines']\n"
          ]
        }
      ]
    },
    {
      "cell_type": "code",
      "source": [
        "class Test:\n",
        "  def __init__(self) :\n",
        "  def first(self):\n",
        "    print(\"first method\")\n",
        "\n",
        "test = Test()\n",
        "\n",
        "test.first()\n",
        "\n",
        "print(isinstance(test, Test))\n",
        "\n"
      ],
      "metadata": {
        "colab": {
          "base_uri": "https://localhost:8080/"
        },
        "id": "wCvaUFhdwbrO",
        "outputId": "a111e11a-bbb7-4dbf-9c06-477fcc55bdb7"
      },
      "execution_count": 1,
      "outputs": [
        {
          "output_type": "stream",
          "name": "stdout",
          "text": [
            "first method\n",
            "True\n"
          ]
        }
      ]
    }
  ]
}